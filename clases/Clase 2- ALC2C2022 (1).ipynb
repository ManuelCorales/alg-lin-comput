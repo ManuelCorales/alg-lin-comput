{
 "cells": [
  {
   "cell_type": "markdown",
   "id": "65738c9b",
   "metadata": {},
   "source": [
    "## Álgebra Lineal Computacional - 2C 2022\n",
    "\n",
    "\n",
    "### Arrays\n",
    "\n",
    "Seguimos trabajando con matrices, veremos algunas funciones más, de Python y de Numpy en particular, para luego usar algunos comandos como **for** e **if**.\n"
   ]
  },
  {
   "cell_type": "markdown",
   "id": "fbc91f73",
   "metadata": {},
   "source": [
    "Importemos Numpy e ingresemos las matrices $$A = \\begin{pmatrix} 0 & 1 & 2 \\\\ -3 & -4 & -5 \\\\ 6 & 7 & 8 \\end{pmatrix} \\quad B= \\begin{pmatrix} 1 & 0 \\\\ 0 & -1 \\\\ 2 & 3 \\end{pmatrix}$$\n",
    "para aplicarles algunas funciones:"
   ]
  },
  {
   "cell_type": "code",
   "execution_count": null,
   "id": "491015bf",
   "metadata": {},
   "outputs": [],
   "source": [
    "import numpy as np\n",
    "A=#Completar\n",
    "B=#Completar, así recordamos cómo ingresar matrices \n",
    "print()\n",
    "print()"
   ]
  },
  {
   "cell_type": "markdown",
   "id": "a2f85784",
   "metadata": {},
   "source": [
    "### Transpuesta de una matriz\n",
    "\n",
    "Si $A\\in \\mathbb{K}^{m\\times n}$ la matriz transpuesta de $A$ es la matriz $A^t \\in \\mathbb{K}^{n\\times m}$ que tiene por filas a las culumnas de $A$. \n",
    "\n",
    "$(A^t)_{ij}=a_{ji} \\quad \\forall 1\\leq i\\leq n, 1\\leq j \\leq m$.\n",
    "\n",
    "La transpuesta de una matriz la calculamos agregando \".T\" a la matriz. Calculemos $ A^t $ y $ (A.B)^t $. \n",
    "\n",
    "Recordar que multiplicamos matrices con \"@\"."
   ]
  },
  {
   "cell_type": "code",
   "execution_count": null,
   "id": "ff69f2d0",
   "metadata": {},
   "outputs": [],
   "source": [
    "At=#Completar\n",
    "ABt=#Completar\n",
    "print()\n",
    "print()"
   ]
  },
  {
   "cell_type": "markdown",
   "id": "a6be208c",
   "metadata": {},
   "source": [
    "### Lugares de una matriz\n",
    "\n",
    "En el ejercicio 3 de la práctica 1 practicaron cómo acceder a los distintos elementos de una matriz.\n",
    "\n",
    "**IMPORTANTE: los índices en Python empiezan en 0**\n",
    "\n",
    "Por ejemplo, para acceder al coeficiente $a_{i,j}$ de una matriz $A$ escribimos $A[i-1,j-1]$. \n",
    "\n",
    "Para acceder a una fila de $A$ usamos los dos puntos \":\" que indican \"todo\". Por ejemplo, si queremos la fila $i$ de $A$ escribimos $A[i-1,:]$.\n",
    "\n",
    "## Ejercicio\n",
    "\n",
    "Calcular los siguientes elementos:\n",
    "$a_{2,3}$, la fila 3 de $A$, la columna 1 de $A.B$, $(B^t)_{1,3}$"
   ]
  },
  {
   "cell_type": "code",
   "execution_count": null,
   "id": "eb3bd462",
   "metadata": {},
   "outputs": [],
   "source": [
    "A23=#Completar\n",
    "f3A=#Completar\n",
    "c1AB=#Completar\n",
    "Bt13=#Completar\n",
    "print(A23)\n",
    "print(f3A)\n",
    "print(c1AB)\n",
    "print(Bt13)"
   ]
  },
  {
   "cell_type": "markdown",
   "id": "f54d0538",
   "metadata": {},
   "source": [
    "### Inversa y determinante\n",
    "\n",
    "El determinante es una función que se aplica a matrices **cuadradas** y devuelve por resultado un escalar.\n",
    "$$A\\in\\mathbb{K}^{n\\times n}, \\quad det(A)\\in\\mathbb{K}$$\n",
    "Esta función determina si una matriz cuadrada es inversible o no. Recordar que $A \\in \\mathbb{K}^{n\\times n}$ es inversible $\\iff \\quad det(A)\\neq 0$\n",
    "\n",
    "Ambas funciones están en Numpy dentro del paquete \"linalg\". Por ejemplo:"
   ]
  },
  {
   "cell_type": "code",
   "execution_count": null,
   "id": "43b93d40",
   "metadata": {},
   "outputs": [],
   "source": [
    "d=np.linalg.det(A) #¿Es A inversible?\n",
    "d "
   ]
  },
  {
   "cell_type": "code",
   "execution_count": null,
   "id": "43a5bc0b",
   "metadata": {},
   "outputs": [],
   "source": [
    "Ainv=np.linalg.inv(A) #Cuando la matriz no es inversible, se dice que es \"singular\"\n",
    "Ainv"
   ]
  },
  {
   "cell_type": "code",
   "execution_count": null,
   "id": "e1a2bbe4",
   "metadata": {},
   "outputs": [],
   "source": [
    "Binv=np.linalg.det(B) #si la matriz no es cuadrada salta un error"
   ]
  },
  {
   "cell_type": "markdown",
   "id": "3bcdd305",
   "metadata": {},
   "source": [
    "### Funciones útiles y ciclos for:\n",
    "\n",
    "Nos será útil en esta materia la función \"range\" para indicar rangos de valores para nuestras variables.\n",
    "Por ejemplo"
   ]
  },
  {
   "cell_type": "code",
   "execution_count": null,
   "id": "358477a1",
   "metadata": {},
   "outputs": [],
   "source": [
    "for i in range(10): \n",
    "    print(i)\n",
    "print(\"Terminé\") #Prestar atención a la indentación"
   ]
  },
  {
   "cell_type": "code",
   "execution_count": null,
   "id": "88f465a8",
   "metadata": {},
   "outputs": [],
   "source": [
    "for i in range(1,5):\n",
    "    print(i)"
   ]
  },
  {
   "cell_type": "code",
   "execution_count": null,
   "id": "16cf533b",
   "metadata": {},
   "outputs": [],
   "source": [
    "# Va de 2 en 2\n",
    "for i in range(3,15,2):\n",
    "    print(i)"
   ]
  },
  {
   "cell_type": "markdown",
   "id": "40537b49",
   "metadata": {},
   "source": [
    "Calculemos ahora su suma. Por ejemplo, para sumar los números naturales del 1 al 10 inclusive.\n",
    "$$\n",
    "\\sum_{i=0}^{10} i\n",
    "$$\n",
    "Hacemos:"
   ]
  },
  {
   "cell_type": "code",
   "execution_count": null,
   "id": "a1a7d1bf",
   "metadata": {},
   "outputs": [],
   "source": [
    "suma = 0\n",
    "for i in range(0, 11):\n",
    "    suma = suma + i\n",
    "print(\"Suma: \", suma)"
   ]
  },
  {
   "cell_type": "markdown",
   "id": "0d52ef20",
   "metadata": {},
   "source": [
    "## Ejercicio: \n",
    "Sumar los cuadrados de los números naturalesdel 5 al 1000 inclusive.\n",
    "$$\n",
    "\\sum_{i=5}^{1000} i^2\n",
    "$$\n",
    "**Resultado**=333833470"
   ]
  },
  {
   "cell_type": "code",
   "execution_count": null,
   "id": "5b5f7a11",
   "metadata": {},
   "outputs": [],
   "source": [
    "#completar"
   ]
  },
  {
   "cell_type": "markdown",
   "id": "4d8ad599",
   "metadata": {},
   "source": [
    "### Sumar lugares de una matriz\n",
    "Los elementos de la fila $i$ de una matriz $A \\in \\mathbb{K}^{m\\times n}$ son $F_i=(a_{i1} \\, a_{i2} \\, \\ldots \\, a_{in})$, cuya suma $a_{i1}+a_{i2}+ \\ldots + a_{in}$ se puede escribir usando una sumatoria:\n",
    "$$S_i=\\sum_{j=1}^{n}a_{ij}$$\n",
    "Si queremos sumar **todos** los elementos de una matriz podemos sumar los resultados de las $m$ filas $S_1+S_2+ \\ldots + S_m = \\sum_{i=1}^{m} S_i$, quedando una doble sumatoria:\n",
    "$$S=\\sum_{i=1}^{m} \\sum_{j=1}^{n}a_{ij}$$"
   ]
  },
  {
   "cell_type": "markdown",
   "id": "1c4c4e3d",
   "metadata": {},
   "source": [
    "## Ejercicio\n",
    "\n",
    "Usar un ciclo for para calcular:\n",
    "\n",
    "**a)** La suma de los elementos de la segunda fila de $A$. \n",
    "\n",
    "_La función **np.sum()** realiza la suma, la podemos usar para verificar nuestro resultado._\n",
    "\n",
    "**b)** La traza de la matriz $A$, que es la suma de los elementos de la diagonal principal $tr(A)=\\sum_{i=1}^n a_{ii}$.\n",
    "\n",
    "_La función **np.trace()** realiza la suma, la podemos usar para verificar nuestro resultado._\n",
    "\n",
    "**c)** La suma de todos los elementos de la matriz $B$ (vamos a necesitar dos ciclos, uno por cada sumatoria).\n",
    "\n",
    "_La función **np.sum()** realiza la suma, la podemos usar para verificar nuestro resultado._\n"
   ]
  },
  {
   "cell_type": "code",
   "execution_count": null,
   "id": "13c8e970",
   "metadata": {},
   "outputs": [],
   "source": [
    "#Completar"
   ]
  },
  {
   "cell_type": "markdown",
   "id": "44472f8f",
   "metadata": {},
   "source": [
    "### Obs: \n",
    "La función **\"len()\"** de python puede ser útil por ejemplo para el ítem b). La función calcula la cantidad de elementos de una objeto. Por ejemplo, "
   ]
  },
  {
   "cell_type": "code",
   "execution_count": null,
   "id": "db58f831",
   "metadata": {},
   "outputs": [],
   "source": [
    "l=len([1,0,-3,2])\n",
    "l"
   ]
  },
  {
   "cell_type": "markdown",
   "id": "f6a77517",
   "metadata": {},
   "source": [
    "Como las matrices las ingresamos como un conjunto de filas, la función len me devolverá la cantidad de filas de la matriz. Por ejemplo,"
   ]
  },
  {
   "cell_type": "code",
   "execution_count": null,
   "id": "34798696",
   "metadata": {},
   "outputs": [],
   "source": [
    "for i in range(len(A)):\n",
    "    print (A[i,i])  #¿Qué pasa si se lo aplicamos a la matriz B?"
   ]
  },
  {
   "cell_type": "markdown",
   "id": "85fb82c6",
   "metadata": {},
   "source": [
    "Y como última observación, puede ser útil también en este caso, la función **\"np.diag()\"** que devuelve un vector con la diagonal principal de la matriz."
   ]
  },
  {
   "cell_type": "code",
   "execution_count": null,
   "id": "ff5d97d3",
   "metadata": {},
   "outputs": [],
   "source": [
    "dA=np.diag(A)\n",
    "dB=np.diag(B)\n",
    "print(dA)\n",
    "print(dB)"
   ]
  },
  {
   "cell_type": "markdown",
   "id": "62e4aa69",
   "metadata": {},
   "source": [
    "Veamos algunos ejemplos con **if**:"
   ]
  },
  {
   "cell_type": "code",
   "execution_count": null,
   "id": "b859c590",
   "metadata": {},
   "outputs": [],
   "source": [
    "a = 15\n",
    "b = 5\n",
    "if(a>b):\n",
    "    print(a, \" es mayor que \", b)"
   ]
  },
  {
   "cell_type": "code",
   "execution_count": null,
   "id": "8d367541",
   "metadata": {},
   "outputs": [],
   "source": [
    "# if - else\n",
    "a = 15\n",
    "b = 5\n",
    "if(a>b):\n",
    "    print(a, \" es mayor que \", b)\n",
    "else:\n",
    "    print(a, \" no es mayor que \", b)"
   ]
  },
  {
   "cell_type": "code",
   "execution_count": null,
   "id": "de870bc1",
   "metadata": {},
   "outputs": [],
   "source": [
    "# if - elif - else\n",
    "a = 5\n",
    "b = 5\n",
    "if(a>b):\n",
    "    print(a, \" es mayor que \", b)\n",
    "elif (b>a):\n",
    "    print(b, \" es mayor que \", a)\n",
    "else:\n",
    "    print(a, \" es igual a \", b)"
   ]
  },
  {
   "cell_type": "markdown",
   "id": "49a88396",
   "metadata": {},
   "source": [
    "## Ejercicios\n",
    "\n",
    "**a)** Calcular la suma de los elementos arriba de la diagonal de $A$, o sea, calcular $$\\sum_{i=1}^{m}\\sum_{j>i}a_{ij}$$\n",
    "**b)** Calcular el producto de los elementos no nulos de la matriz $A$."
   ]
  },
  {
   "cell_type": "code",
   "execution_count": null,
   "id": "e9b2c914",
   "metadata": {},
   "outputs": [],
   "source": [
    "#completar. "
   ]
  },
  {
   "cell_type": "markdown",
   "id": "257a301a",
   "metadata": {},
   "source": [
    "### Definir funciones\n",
    "\n",
    "Por último, definamos algunas funciones. **¡¡En los \"videos preliminares\" en el campus tienen más detalles!!**\n",
    "\n",
    "Por ejemplo:"
   ]
  },
  {
   "cell_type": "code",
   "execution_count": null,
   "id": "a345d8f8",
   "metadata": {},
   "outputs": [],
   "source": [
    "def suma(a,b):\n",
    "    c = a + b\n",
    "    return(c)"
   ]
  },
  {
   "cell_type": "code",
   "execution_count": null,
   "id": "a5ce947c",
   "metadata": {},
   "outputs": [],
   "source": [
    "suma(3,12)"
   ]
  },
  {
   "cell_type": "markdown",
   "id": "4461a844",
   "metadata": {},
   "source": [
    "Otro ejemplo:"
   ]
  },
  {
   "cell_type": "code",
   "execution_count": null,
   "id": "7654a00c",
   "metadata": {},
   "outputs": [],
   "source": [
    "def comparar(a, b):\n",
    "    if(a>b):\n",
    "        print(a, \" es mayor que \", b)\n",
    "    elif (b>a):\n",
    "        print(b, \" es mayor que \", a)\n",
    "    else:\n",
    "        print(a, \" es igual a \", b)"
   ]
  },
  {
   "cell_type": "code",
   "execution_count": null,
   "id": "54460c77",
   "metadata": {},
   "outputs": [],
   "source": [
    "comparar(3,12)"
   ]
  },
  {
   "cell_type": "markdown",
   "id": "89cfb375",
   "metadata": {},
   "source": [
    "## Ejercicios\n",
    "\n",
    "**a)** Realizar el Ejercicio 14 de la Práctica 1.\n",
    "\n",
    "**b)** Escribir un programa que reciba un vector $v$ en $R^n$ y devuelva cuántas coordenadas de $v$ son mayores que 5.\n",
    "\n",
    "_Obs: Recordar que puede ser útil la función \"len\" a la hora de usar \"range\" para recorrer todas las componentes de una lista."
   ]
  },
  {
   "cell_type": "code",
   "execution_count": null,
   "id": "2bce8878",
   "metadata": {},
   "outputs": [],
   "source": [
    "#completar"
   ]
  }
 ],
 "metadata": {
  "kernelspec": {
   "display_name": "Python 3 (ipykernel)",
   "language": "python",
   "name": "python3"
  },
  "language_info": {
   "codemirror_mode": {
    "name": "ipython",
    "version": 3
   },
   "file_extension": ".py",
   "mimetype": "text/x-python",
   "name": "python",
   "nbconvert_exporter": "python",
   "pygments_lexer": "ipython3",
   "version": "3.9.12"
  }
 },
 "nbformat": 4,
 "nbformat_minor": 5
}

{
 "cells": [
  {
   "cell_type": "markdown",
   "metadata": {},
   "source": [
    "Primero vamos a importar pandas que es un modulo de python para manejar bases de datos\n",
    "Si no lo tienen lo instalan con pip install pandas"
   ]
  },
  {
   "cell_type": "code",
   "execution_count": null,
   "metadata": {},
   "outputs": [],
   "source": [
    "import pandas as pd"
   ]
  },
  {
   "cell_type": "markdown",
   "metadata": {},
   "source": [
    "Leemos el archivo con los datos del salario y la inflación.\n",
    "Podemos usar read_csv para leer un archivo csv (separado por comas) o read_excel para leer un archivo de excel\n",
    "\n",
    "\n",
    "*El SALARIO corresponde al sueldo bruto de un Ayudante de Primera con dedicación semiexclusiva con 10 años de antigüedad y fue extraído de http://agduba.org.ar/. El sueldo en mano es un 23,5% menos.\n",
    "\n",
    "*El IPC es la variacion mensual (%) del Indice de Precios al Consumidor que elabora el INDEC. La serie completa está en https://www.indec.gob.ar/indec/web/Nivel4-Tema-3-5-31"
   ]
  },
  {
   "cell_type": "code",
   "execution_count": null,
   "metadata": {},
   "outputs": [],
   "source": [
    "datos = pd.read_csv(\"salarios_inflacion.csv\",parse_dates=[\"MES\"]) #parse_dates dice que columnas tiene que formatear como fechas\n",
    "#datos = pd.read_excel(\"salarios_inflacion.xlsx\") #Acá no hace falta el parse_dates porque excel ya sabe que son fechas"
   ]
  },
  {
   "cell_type": "markdown",
   "metadata": {},
   "source": [
    "datos.columns devuelve un Index (una especie de lista) con los nombres de las columnas\n",
    "\n",
    "datos.dtypes nos dice el tipo de cada columna. queremos tratar al mes como datetime"
   ]
  },
  {
   "cell_type": "code",
   "execution_count": null,
   "metadata": {},
   "outputs": [],
   "source": [
    "#datos.columns\n",
    "datos.dtypes"
   ]
  },
  {
   "cell_type": "markdown",
   "metadata": {},
   "source": [
    "datos.head(n) muestra las primeras n filas del dataset"
   ]
  },
  {
   "cell_type": "code",
   "execution_count": null,
   "metadata": {},
   "outputs": [],
   "source": [
    "datos.head(12)"
   ]
  },
  {
   "cell_type": "markdown",
   "metadata": {},
   "source": [
    "datos.tail(n) muestra las últimas n filas del dataset"
   ]
  },
  {
   "cell_type": "code",
   "execution_count": null,
   "metadata": {},
   "outputs": [],
   "source": [
    "datos.tail(7)"
   ]
  },
  {
   "cell_type": "markdown",
   "metadata": {},
   "source": [
    "Podemos acceder a una columna como datos.COLUMNA o con datos[\"COLUMNA\"] "
   ]
  },
  {
   "cell_type": "code",
   "execution_count": null,
   "metadata": {},
   "outputs": [],
   "source": [
    "datos.IPC.tail()\n",
    "#datos[\"IPC\"].tail()"
   ]
  },
  {
   "cell_type": "markdown",
   "metadata": {},
   "source": [
    "Para acceder a varias tenemos datos.get([columnas])"
   ]
  },
  {
   "cell_type": "code",
   "execution_count": null,
   "metadata": {},
   "outputs": [],
   "source": [
    "datos.get([\"MES\",\"IPC\"]).tail()"
   ]
  },
  {
   "cell_type": "markdown",
   "metadata": {},
   "source": [
    "Dentro de una columna podemos usar indices como en un array"
   ]
  },
  {
   "cell_type": "code",
   "execution_count": null,
   "metadata": {},
   "outputs": [],
   "source": [
    "datos.IPC[0:12]"
   ]
  },
  {
   "cell_type": "markdown",
   "metadata": {},
   "source": [
    "Para saber el sueldo en mano que percibe un docente hay que descontar el 23,5% de aportes a la jubilación y a la obra social."
   ]
  },
  {
   "cell_type": "code",
   "execution_count": null,
   "metadata": {},
   "outputs": [],
   "source": [
    "#Creo una nueva columna con el 76,5% del salario burto\n",
    "datos[\"SALARIO_MANO\"] = datos.SALARIO*0.765\n",
    "datos.tail()"
   ]
  },
  {
   "cell_type": "markdown",
   "metadata": {},
   "source": [
    "Y con la notación datos[condicion] obtengo las filas del dataset que cumplen la condicion"
   ]
  },
  {
   "cell_type": "code",
   "execution_count": null,
   "metadata": {},
   "outputs": [],
   "source": [
    "#Ejemplo\n",
    "datos[datos.SALARIO > 50000]"
   ]
  },
  {
   "cell_type": "code",
   "execution_count": null,
   "metadata": {},
   "outputs": [],
   "source": [
    "# Aca uso .dt que es una forma de acceder a propiedades de columnas de tipo datetime\n",
    "# en este caso, agarro todo lo que corresponde al año 2022\n",
    "datos[datos.MES.dt.year == 2022]"
   ]
  },
  {
   "cell_type": "markdown",
   "metadata": {},
   "source": [
    "Para trabajar con la inflación, necesitamos calcular la inflación acumulada en cierto periodo.\n",
    "\n",
    "Recordemos que los porcentajes se acumulan multiplicativamente y no aditivamente"
   ]
  },
  {
   "cell_type": "code",
   "execution_count": null,
   "metadata": {},
   "outputs": [],
   "source": [
    "#A esta función le paso una lista de indices de inflación mensual y devuelve la inlfación acumulada en todo el periodo\n",
    "def inflacion_acumulada(mensuales):\n",
    "    base = 100\n",
    "    for mes in mensuales:\n",
    "        base = base*(1+mes/100)\n",
    "    return(base-100)"
   ]
  },
  {
   "cell_type": "code",
   "execution_count": null,
   "metadata": {},
   "outputs": [],
   "source": [
    "#Ejemplo. Inflación anual acumuladda con una inflación mensual del 6% \n",
    "inflacion_acumulada([6]*12)"
   ]
  },
  {
   "cell_type": "code",
   "execution_count": null,
   "metadata": {},
   "outputs": [],
   "source": [
    "#Así podriamos calcular la inflación anual de 2018\n",
    "inflacion_acumulada(datos.IPC[0:12])"
   ]
  },
  {
   "cell_type": "code",
   "execution_count": null,
   "metadata": {},
   "outputs": [],
   "source": [
    "# Y así la inflación acumulada en lo que va de 2022\n",
    "inflacion_acumulada(datos[datos.MES.dt.year == 2022].IPC)"
   ]
  },
  {
   "cell_type": "markdown",
   "metadata": {},
   "source": [
    "Podríamos comparar la inflación acumulada en el periodo con el aumento del salario"
   ]
  },
  {
   "cell_type": "code",
   "execution_count": null,
   "metadata": {},
   "outputs": [],
   "source": [
    "inflacion_total = inflacion_acumulada(datos.IPC)\n",
    "aumento_total = (datos.iloc[-1].SALARIO/datos.iloc[0].SALARIO-1)*100\n",
    "\n",
    "print(\"Inflación total: \",inflacion_total)\n",
    "# datos.iloc[i] rescata la fila i-esima\n",
    "print(\"Aumento salarial: \",aumento_total)\n"
   ]
  },
  {
   "cell_type": "code",
   "execution_count": null,
   "metadata": {},
   "outputs": [],
   "source": [
    "# Un poco más lindo usando f-strings\n",
    "\n",
    "print(f\"Inflación total: {inflacion_total:.2f}%\")\n",
    "print(f\"Aumento salarial: {aumento_total:.2f}%\")"
   ]
  },
  {
   "cell_type": "markdown",
   "metadata": {},
   "source": [
    "Vamos a hacer algunos gráficos"
   ]
  },
  {
   "cell_type": "code",
   "execution_count": null,
   "metadata": {},
   "outputs": [],
   "source": [
    "import matplotlib.pyplot as plt"
   ]
  },
  {
   "cell_type": "markdown",
   "metadata": {},
   "source": [
    "Una opción es comparar la evolución del salario con la inflación acumulada.\n",
    "\n",
    "O sea, por cuanto se multiplico el salario y por cuanto los precios.\n",
    "\n",
    "El tema acá es que hay que tomar un punto de referencia. Una opción podría ser enero 2018 que es el primer dato que tenemos. "
   ]
  },
  {
   "cell_type": "code",
   "execution_count": null,
   "metadata": {},
   "outputs": [],
   "source": [
    "# Armamos una lista con el valor relativo del salario tomamdo como 1 al salario en enero 2018\n",
    "\n",
    "aumento = [] # Empiezo con una lista vacía\n",
    "for i in datos.index: # recorro todos los meses\n",
    "    aumento.append((datos.SALARIO[i]/datos.SALARIO[0])) # agrego a la lista el cociente entre el salario del mes con el salario \"0\""
   ]
  },
  {
   "cell_type": "code",
   "execution_count": null,
   "metadata": {},
   "outputs": [],
   "source": [
    "# Armamos una lista con la inflación acumulada para cada mes desde enero 2018 (por cuanto se multilpicaron los precios)\n",
    "\n",
    "acumulada = [1] # Empiezo con una lista con un 1\n",
    "for i in datos.index[1:]: #no uso el IPC de enero porque es nuestro \"punto 0\"\n",
    "    acumulada.append(acumulada[-1]*(1+datos.IPC[i]/100)) # multiciploc la inflación acumulada hasta el mes anterior por el indice de este mes"
   ]
  },
  {
   "cell_type": "code",
   "execution_count": null,
   "metadata": {},
   "outputs": [],
   "source": [
    "# Si quieren se puede agregar estos datos como columnas del dataset\n",
    "datos[\"AUMENTO\"] = aumento\n",
    "datos[\"ACUMULADA\"] = acumulada\n",
    "datos.tail()"
   ]
  },
  {
   "cell_type": "code",
   "execution_count": null,
   "metadata": {},
   "outputs": [],
   "source": [
    "# Graficamos una curva con la evolución del salario y otra con la inflación\n",
    "plt.plot(datos.MES, aumento,label=\"salario\")\n",
    "plt.plot(datos.MES, acumulada,label=\"inflacion\")\n",
    "\n",
    "plt.legend() #Esto hace que aparezca la referencia de que es cada color\n",
    "\n",
    "plt.title(\"Salario vs inflación (base enero 2018 = 100)\") # Titulo"
   ]
  },
  {
   "cell_type": "markdown",
   "metadata": {},
   "source": [
    "Hay muchas opciones para hacerlo un poco más claro. Veamos algunas"
   ]
  },
  {
   "cell_type": "code",
   "execution_count": null,
   "metadata": {},
   "outputs": [],
   "source": [
    "# Graficamos una curva con la evolución del salario y otra con la inflación\n",
    "plt.plot(datos.MES, aumento,label=\"salario\")\n",
    "plt.plot(datos.MES, acumulada,label=\"inflacion\")\n",
    "\n",
    "plt.legend() #Esto hace que aparezca la referencia de que es cada color\n",
    "\n",
    "plt.title(\"Salario vs inflación (base enero 2018 = 100)\") # Titulo\n",
    "\n",
    "plt.grid(axis=\"y\") # Grilla para el eje y. Prueben sin argumentos \n",
    "\n",
    "# Y con esto decimos donde queremos las marquitas del eje x.\n",
    "# La funcion strftime sirve para formatear datos datetime\n",
    "# tiene su propia sintaxis en este caso hago mes/año\n",
    "plt.xticks(datos.MES[::12],datos.MES[::12].dt.strftime(\"%b/%y\")) "
   ]
  },
  {
   "cell_type": "markdown",
   "metadata": {},
   "source": [
    "Otra opción es representar la evolución del \"salario real\"\n",
    "\n",
    "O sea, cuanto vale (teniendo en cuenta la inlfación) un sueldo hoy en relación a un punto de referencia"
   ]
  },
  {
   "cell_type": "code",
   "execution_count": null,
   "metadata": {},
   "outputs": [],
   "source": [
    "datos[\"SALARIOREAL\"] = datos.AUMENTO/datos.ACUMULADA\n",
    "\n",
    "plt.plot(datos.MES,datos.SALARIOREAL)\n",
    "\n",
    "plt.grid(axis=\"y\")\n",
    "plt.xticks(datos.MES[::12],datos.MES[::12].dt.strftime(\"%b/%y\")) \n",
    "\n",
    "plt.title(\"Evolución del salario real tomando como base enero 2018\")"
   ]
  },
  {
   "cell_type": "markdown",
   "metadata": {},
   "source": [
    "Podríamos tomar la base como la base como 100 para que el gráfico muestre porcentajes"
   ]
  },
  {
   "cell_type": "code",
   "execution_count": null,
   "metadata": {},
   "outputs": [],
   "source": [
    "datos[\"SALARIOREAL\"] = datos.AUMENTO/datos.ACUMULADA*100\n",
    "\n",
    "plt.plot(datos.MES,datos.SALARIOREAL, color=\"red\")\n",
    "\n",
    "plt.grid()\n",
    "plt.xticks(datos.MES[6::12],datos.MES[6::12].dt.strftime(\"%b/%y\")) \n",
    "\n",
    "plt.title(\"Evolución del salario real tomando como base enero 2018\")\n",
    "\n",
    "plt.ylabel(\"%\")\n",
    "\n",
    "plt.text(datos.iloc[-1].MES,datos.iloc[-1].SALARIOREAL,f\"{datos.iloc[-1].SALARIOREAL:.0f}%\",color=\"white\",backgroundcolor='red', fontweight='bold')"
   ]
  },
  {
   "cell_type": "code",
   "execution_count": null,
   "metadata": {},
   "outputs": [],
   "source": []
  }
 ],
 "metadata": {
  "kernelspec": {
   "display_name": "Python 3.10.4 64-bit",
   "language": "python",
   "name": "python3"
  },
  "language_info": {
   "codemirror_mode": {
    "name": "ipython",
    "version": 3
   },
   "file_extension": ".py",
   "mimetype": "text/x-python",
   "name": "python",
   "nbconvert_exporter": "python",
   "pygments_lexer": "ipython3",
   "version": "3.10.4"
  },
  "orig_nbformat": 4,
  "vscode": {
   "interpreter": {
    "hash": "369f2c481f4da34e4445cda3fffd2e751bd1c4d706f27375911949ba6bb62e1c"
   }
  }
 },
 "nbformat": 4,
 "nbformat_minor": 2
}

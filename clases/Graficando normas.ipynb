{
 "cells": [
  {
   "cell_type": "code",
   "execution_count": null,
   "metadata": {},
   "outputs": [],
   "source": [
    "import numpy as np\n",
    "import matplotlib.pyplot as plt"
   ]
  },
  {
   "cell_type": "markdown",
   "metadata": {},
   "source": [
    "## Entrando en calor"
   ]
  },
  {
   "cell_type": "code",
   "execution_count": null,
   "metadata": {},
   "outputs": [],
   "source": [
    "x = np.array([3,4])\n",
    "\n",
    "# Esta función calcula normas de vectores y matrices:\n",
    "norma1 = np.linalg.norm(x,1)\n",
    "norma2 = np.linalg.norm(x,2)\n",
    "normainf = np.linalg.norm(x,np.inf)\n",
    "\n",
    "print(x)\n",
    "print(\"norma 1:\", norma1)\n",
    "print(\"norma 2:\", norma2)\n",
    "print(\"norma inf:\", normainf)"
   ]
  },
  {
   "cell_type": "code",
   "execution_count": null,
   "metadata": {},
   "outputs": [],
   "source": [
    "n = 3\n",
    "m = 4\n",
    "\n",
    "# Esto genera vectores o matrices con valores aleatorios distribuidos uniformemente en [0,1)\n",
    "vector = np.random.rand(n)\n",
    "matriz =  np.random.rand(n,m)\n",
    "\n",
    "print(vector)\n",
    "print(matriz)"
   ]
  },
  {
   "cell_type": "markdown",
   "metadata": {},
   "source": [
    "## Ahora sí. Vamos a graficar todos los vectores de $ \\R^2 $ con norma fija\n",
    "\n",
    "## $$ \\{(x,y) \\in \\R^2 \\ / \\ ||(x,y)||_p = c \\} $$"
   ]
  },
  {
   "cell_type": "code",
   "execution_count": null,
   "metadata": {},
   "outputs": [],
   "source": [
    "def graficar_norma(p,N,constante = 1):\n",
    "    '''Grafica N vectores con norma p igual a una constante (por defecto 1)'''\n",
    "    vx = []\n",
    "    vy = []\n",
    "    for i in range(N):\n",
    "        x = np.random.rand(2)-0.5 # Creo un vector aleatorio con coordenadas entre -0.5 y 0.5\n",
    "        x = x/np.linalg.norm(x,p)*constante # Normalizo y multiplico por la contante\n",
    "        vx.append(x[0]) # Acá guardo las coordenadas x\n",
    "        vy.append(x[1]) # Acá guardo las cooredandas y\n",
    "\n",
    "    plt.plot(vx,vy,',',label='Norma '+str(p)) # Plote con , para que salga más finito. Se puede poner . si no"
   ]
  },
  {
   "cell_type": "markdown",
   "metadata": {},
   "source": [
    "### Primera prueba. Ploteamos 1000 vectores random con normas 1, 2 e inf"
   ]
  },
  {
   "cell_type": "code",
   "execution_count": null,
   "metadata": {},
   "outputs": [],
   "source": [
    "N = 1000\n",
    "graficar_norma(1,N)\n",
    "graficar_norma(2,N)\n",
    "graficar_norma(np.Inf,N)\n",
    "\n",
    "plt.legend()"
   ]
  },
  {
   "cell_type": "code",
   "execution_count": null,
   "metadata": {},
   "outputs": [],
   "source": [
    "# Lo mismo pero acomodo un poco los ejes para que quede más \"matemático\"\n",
    "N = 1000\n",
    "graficar_norma(1,N)\n",
    "graficar_norma(2,N)\n",
    "graficar_norma(np.Inf,N)\n",
    "\n",
    "plt.axis('scaled') # Esto para que las escalas x e y sean iguales\n",
    "ax = plt.gca()\n",
    "ax.spines[['top', 'right']].set_visible(False) # Esto oculta el eje de arriba y el de la derecha\n",
    "ax.spines[['left', 'bottom']].set_position('center') # Esto centra los ejes x e y\n",
    "# Lo útlimo fijo los limites y las marquitas de los ejes\n",
    "plt.xlim(-2,2)\n",
    "plt.yticks([-1,1]) \n",
    "plt.ylim(-2,2)"
   ]
  },
  {
   "cell_type": "markdown",
   "metadata": {},
   "source": [
    "### Segunda prueba. Chequeo las cotas $ ||x||_1 \\leq ||x||_2 \\leq ||x||_1\\sqrt{2} \\leq ... $"
   ]
  },
  {
   "cell_type": "code",
   "execution_count": null,
   "metadata": {},
   "outputs": [],
   "source": [
    "\n",
    "N = 1000\n",
    "graficar_norma(1,N)\n",
    "graficar_norma(2,N)\n",
    "graficar_norma(1,N,np.sqrt(2))\n",
    "graficar_norma(2,N,np.sqrt(2))\n",
    "graficar_norma(1,N,2)\n",
    "graficar_norma(2,N,2)\n",
    "\n",
    "plt.axis('scaled')\n",
    "ax = plt.gca()\n",
    "ax.spines[['top', 'right']].set_visible(False)\n",
    "ax.spines[['left', 'bottom']].set_position('center')\n",
    "plt.xlim(-3,3)\n",
    "plt.yticks(np.arange(-2,3))\n",
    "plt.ylim(-3,3)"
   ]
  },
  {
   "cell_type": "markdown",
   "metadata": {},
   "source": [
    "## Sean libres de probar lo que quieran"
   ]
  }
 ],
 "metadata": {
  "kernelspec": {
   "display_name": "Python 3.10.4 64-bit",
   "language": "python",
   "name": "python3"
  },
  "language_info": {
   "codemirror_mode": {
    "name": "ipython",
    "version": 3
   },
   "file_extension": ".py",
   "mimetype": "text/x-python",
   "name": "python",
   "nbconvert_exporter": "python",
   "pygments_lexer": "ipython3",
   "version": "3.10.4"
  },
  "orig_nbformat": 4,
  "vscode": {
   "interpreter": {
    "hash": "369f2c481f4da34e4445cda3fffd2e751bd1c4d706f27375911949ba6bb62e1c"
   }
  }
 },
 "nbformat": 4,
 "nbformat_minor": 2
}

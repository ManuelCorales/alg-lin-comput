{
 "cells": [
  {
   "cell_type": "code",
   "execution_count": 18,
   "metadata": {},
   "outputs": [
    {
     "name": "stdout",
     "output_type": "stream",
     "text": [
      "[[ 1  1 -2  1]\n",
      " [ 3 -2  1  5]\n",
      " [ 1 -1  1  2]\n",
      " [ 1 -1  1  6]]\n"
     ]
    },
    {
     "data": {
      "text/plain": [
       "array([-1.5 , -0.25,  0.75,  1.25])"
      ]
     },
     "execution_count": 18,
     "metadata": {},
     "output_type": "execute_result"
    }
   ],
   "source": [
    "import numpy as np\n",
    "\n",
    "#1)\n",
    "#a)\n",
    "v1 = np.array([[1, 1, -2, 1], [3, -2, 1, 5], [1, -1, 1, 2], [1, -1, 1, 6]])\n",
    "print(v1)\n",
    "v2 = np.array([-2, 3, 2, 7])\n",
    "np.linalg.solve(v1, v2)"
   ]
  }
 ],
 "metadata": {
  "kernelspec": {
   "display_name": "Python 3",
   "language": "python",
   "name": "python3"
  },
  "language_info": {
   "codemirror_mode": {
    "name": "ipython",
    "version": 3
   },
   "file_extension": ".py",
   "mimetype": "text/x-python",
   "name": "python",
   "nbconvert_exporter": "python",
   "pygments_lexer": "ipython3",
   "version": "3.8.5"
  }
 },
 "nbformat": 4,
 "nbformat_minor": 4
}
